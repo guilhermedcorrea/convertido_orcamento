{
 "cells": [
  {
   "cell_type": "code",
   "execution_count": 90,
   "metadata": {},
   "outputs": [],
   "source": [
    "import pandas as pd\n",
    "import numpy as np\n",
    "import seaborn as sns\n",
    "from sklearn.preprocessing import LabelEncoder\n",
    "from imblearn.under_sampling import TomekLinks\n",
    "from sklearn.preprocessing import OneHotEncoder\n",
    "from sklearn.compose import ColumnTransformer\n",
    "from sklearn.model_selection import train_test_split\n",
    "from sklearn.metrics import accuracy_score, classification_report\n",
    "from imblearn.over_sampling import SMOTE\n",
    "from sklearn.preprocessing import MinMaxScaler\n",
    "from sklearn.preprocessing import StandardScaler\n",
    "import plotly.express as px\n",
    "from xgboost import XGBClassifier\n",
    "import matplotlib.pyplot as plt\n",
    "from sklearn.metrics import confusion_matrix\n",
    "from sklearn.compose import make_column_transformer\n",
    "from sklearn.preprocessing import OneHotEncoder"
   ]
  },
  {
   "cell_type": "code",
   "execution_count": 91,
   "metadata": {},
   "outputs": [],
   "source": [
    "base_treino = pd.read_csv(r\"D:\\pipeline_dados\\base_orcamentos_treino.csv\")"
   ]
  },
  {
   "cell_type": "code",
   "execution_count": 92,
   "metadata": {},
   "outputs": [],
   "source": [
    "base_avaliacao = pd.read_csv(r\"D:\\pipeline_dados\\base_orcamentos_nov.csv\")"
   ]
  },
  {
   "cell_type": "code",
   "execution_count": 93,
   "metadata": {},
   "outputs": [],
   "source": [
    "categoricos = ['id_quote',\n",
    " 'dt_criacao',\n",
    " 'ds_tipo_obra',\n",
    " 'nm_prop_oportunidade',\n",
    " 'proprietario',\n",
    " 'promocional',\n",
    " 'tipo_loja',\n",
    " 'banheiro',\n",
    " 'toda_casa',\n",
    " 'cozinha',\n",
    " 'area_externa',\n",
    " 'itens_assentamento',\n",
    " 'sala',\n",
    " 'piscina',\n",
    " 'area_servico',\n",
    " 'garagem',\n",
    " 'dormitorio',\n",
    " 'varanda',\n",
    " 'escada',\n",
    " 'amb_outros']"
   ]
  },
  {
   "cell_type": "code",
   "execution_count": 94,
   "metadata": {},
   "outputs": [
    {
     "data": {
      "text/plain": [
       "['id_quote',\n",
       " 'dt_criacao',\n",
       " 'ds_tipo_obra',\n",
       " 'nm_prop_oportunidade',\n",
       " 'proprietario',\n",
       " 'promocional',\n",
       " 'tipo_loja',\n",
       " 'banheiro',\n",
       " 'toda_casa',\n",
       " 'cozinha',\n",
       " 'area_externa',\n",
       " 'itens_assentamento',\n",
       " 'sala',\n",
       " 'piscina',\n",
       " 'area_servico',\n",
       " 'garagem',\n",
       " 'dormitorio',\n",
       " 'varanda',\n",
       " 'escada',\n",
       " 'amb_outros']"
      ]
     },
     "execution_count": 94,
     "metadata": {},
     "output_type": "execute_result"
    }
   ],
   "source": [
    "categoricos"
   ]
  },
  {
   "cell_type": "code",
   "execution_count": 95,
   "metadata": {},
   "outputs": [],
   "source": [
    "encoder = OneHotEncoder(drop='if_binary')\n",
    "df_encoded = pd.DataFrame(encoder.fit_transform(base_treino[categoricos]).toarray(), columns=encoder.get_feature_names_out(categoricos))\n",
    "df_final = pd.concat([base_treino.drop(categoricos, axis=1), df_encoded], axis=1)"
   ]
  },
  {
   "cell_type": "code",
   "execution_count": 96,
   "metadata": {},
   "outputs": [],
   "source": [
    "X = df_final.drop('convertido', axis=1)\n",
    "y = df_final['convertido']"
   ]
  },
  {
   "cell_type": "code",
   "execution_count": 97,
   "metadata": {},
   "outputs": [],
   "source": [
    "from sklearn.feature_selection import VarianceThreshold\n"
   ]
  },
  {
   "cell_type": "code",
   "execution_count": 98,
   "metadata": {},
   "outputs": [],
   "source": [
    "var_threshold = 0.40\n",
    "selector = VarianceThreshold(threshold=(var_threshold * (1 - var_threshold)))\n",
    "X_high_variance = selector.fit_transform(X)"
   ]
  },
  {
   "cell_type": "code",
   "execution_count": 99,
   "metadata": {},
   "outputs": [],
   "source": [
    "label_encoder = LabelEncoder()\n",
    "y = label_encoder.fit_transform(y)"
   ]
  },
  {
   "cell_type": "code",
   "execution_count": 100,
   "metadata": {},
   "outputs": [],
   "source": [
    "x_treino, x_teste, y_treino, y_teste = train_test_split(X_high_variance, y, test_size=0.2, random_state=42,stratify=y)"
   ]
  },
  {
   "cell_type": "code",
   "execution_count": 101,
   "metadata": {},
   "outputs": [],
   "source": [
    "scaler = StandardScaler()\n",
    "x_treino = scaler.fit_transform(x_treino)\n",
    "x_teste = scaler.transform(x_teste)"
   ]
  },
  {
   "cell_type": "code",
   "execution_count": 102,
   "metadata": {},
   "outputs": [],
   "source": [
    "smote = SMOTE(random_state=42)\n",
    "x_treino_resampled, y_treino_resampled = smote.fit_resample(x_treino, y_treino)"
   ]
  },
  {
   "cell_type": "code",
   "execution_count": 103,
   "metadata": {},
   "outputs": [],
   "source": [
    "from sklearn.model_selection import train_test_split, GridSearchCV"
   ]
  },
  {
   "cell_type": "code",
   "execution_count": 104,
   "metadata": {},
   "outputs": [],
   "source": [
    "\n",
    "param_grid = {\n",
    "    'learning_rate': [0.01, 0.1, 0.2],\n",
    "    'n_estimators': [50, 100, 200],\n",
    "    'max_depth': [3, 5, 7],\n",
    "    'min_child_weight': [1, 3, 5],\n",
    "    'subsample': [0.8, 1.0],\n",
    "    'colsample_bytree': [0.8, 1.0]\n",
    "}\n",
    "\n",
    "xgb = XGBClassifier(\n",
    "    objective='binary:logistic',\n",
    "    use_label_encoder=False,\n",
    "    eval_metric='logloss',\n",
    "    reg_alpha=0.001,\n",
    "    reg_lambda=0.001\n",
    ")"
   ]
  },
  {
   "cell_type": "code",
   "execution_count": 105,
   "metadata": {},
   "outputs": [],
   "source": [
    "grid_search = GridSearchCV(xgb, param_grid, scoring='accuracy', cv=5, n_jobs=-1)\n",
    "grid_search.fit(x_treino_resampled, y_treino_resampled)\n",
    "\n",
    "best_params = grid_search.best_params_"
   ]
  },
  {
   "cell_type": "code",
   "execution_count": 106,
   "metadata": {},
   "outputs": [
    {
     "data": {
      "text/html": [
       "<style>#sk-container-id-3 {color: black;}#sk-container-id-3 pre{padding: 0;}#sk-container-id-3 div.sk-toggleable {background-color: white;}#sk-container-id-3 label.sk-toggleable__label {cursor: pointer;display: block;width: 100%;margin-bottom: 0;padding: 0.3em;box-sizing: border-box;text-align: center;}#sk-container-id-3 label.sk-toggleable__label-arrow:before {content: \"▸\";float: left;margin-right: 0.25em;color: #696969;}#sk-container-id-3 label.sk-toggleable__label-arrow:hover:before {color: black;}#sk-container-id-3 div.sk-estimator:hover label.sk-toggleable__label-arrow:before {color: black;}#sk-container-id-3 div.sk-toggleable__content {max-height: 0;max-width: 0;overflow: hidden;text-align: left;background-color: #f0f8ff;}#sk-container-id-3 div.sk-toggleable__content pre {margin: 0.2em;color: black;border-radius: 0.25em;background-color: #f0f8ff;}#sk-container-id-3 input.sk-toggleable__control:checked~div.sk-toggleable__content {max-height: 200px;max-width: 100%;overflow: auto;}#sk-container-id-3 input.sk-toggleable__control:checked~label.sk-toggleable__label-arrow:before {content: \"▾\";}#sk-container-id-3 div.sk-estimator input.sk-toggleable__control:checked~label.sk-toggleable__label {background-color: #d4ebff;}#sk-container-id-3 div.sk-label input.sk-toggleable__control:checked~label.sk-toggleable__label {background-color: #d4ebff;}#sk-container-id-3 input.sk-hidden--visually {border: 0;clip: rect(1px 1px 1px 1px);clip: rect(1px, 1px, 1px, 1px);height: 1px;margin: -1px;overflow: hidden;padding: 0;position: absolute;width: 1px;}#sk-container-id-3 div.sk-estimator {font-family: monospace;background-color: #f0f8ff;border: 1px dotted black;border-radius: 0.25em;box-sizing: border-box;margin-bottom: 0.5em;}#sk-container-id-3 div.sk-estimator:hover {background-color: #d4ebff;}#sk-container-id-3 div.sk-parallel-item::after {content: \"\";width: 100%;border-bottom: 1px solid gray;flex-grow: 1;}#sk-container-id-3 div.sk-label:hover label.sk-toggleable__label {background-color: #d4ebff;}#sk-container-id-3 div.sk-serial::before {content: \"\";position: absolute;border-left: 1px solid gray;box-sizing: border-box;top: 0;bottom: 0;left: 50%;z-index: 0;}#sk-container-id-3 div.sk-serial {display: flex;flex-direction: column;align-items: center;background-color: white;padding-right: 0.2em;padding-left: 0.2em;position: relative;}#sk-container-id-3 div.sk-item {position: relative;z-index: 1;}#sk-container-id-3 div.sk-parallel {display: flex;align-items: stretch;justify-content: center;background-color: white;position: relative;}#sk-container-id-3 div.sk-item::before, #sk-container-id-3 div.sk-parallel-item::before {content: \"\";position: absolute;border-left: 1px solid gray;box-sizing: border-box;top: 0;bottom: 0;left: 50%;z-index: -1;}#sk-container-id-3 div.sk-parallel-item {display: flex;flex-direction: column;z-index: 1;position: relative;background-color: white;}#sk-container-id-3 div.sk-parallel-item:first-child::after {align-self: flex-end;width: 50%;}#sk-container-id-3 div.sk-parallel-item:last-child::after {align-self: flex-start;width: 50%;}#sk-container-id-3 div.sk-parallel-item:only-child::after {width: 0;}#sk-container-id-3 div.sk-dashed-wrapped {border: 1px dashed gray;margin: 0 0.4em 0.5em 0.4em;box-sizing: border-box;padding-bottom: 0.4em;background-color: white;}#sk-container-id-3 div.sk-label label {font-family: monospace;font-weight: bold;display: inline-block;line-height: 1.2em;}#sk-container-id-3 div.sk-label-container {text-align: center;}#sk-container-id-3 div.sk-container {/* jupyter's `normalize.less` sets `[hidden] { display: none; }` but bootstrap.min.css set `[hidden] { display: none !important; }` so we also need the `!important` here to be able to override the default hidden behavior on the sphinx rendered scikit-learn.org. See: https://github.com/scikit-learn/scikit-learn/issues/21755 */display: inline-block !important;position: relative;}#sk-container-id-3 div.sk-text-repr-fallback {display: none;}</style><div id=\"sk-container-id-3\" class=\"sk-top-container\"><div class=\"sk-text-repr-fallback\"><pre>XGBClassifier(base_score=None, booster=None, callbacks=None,\n",
       "              colsample_bylevel=None, colsample_bynode=None,\n",
       "              colsample_bytree=0.8, device=None, early_stopping_rounds=None,\n",
       "              enable_categorical=False, eval_metric=&#x27;logloss&#x27;,\n",
       "              feature_types=None, gamma=None, grow_policy=None,\n",
       "              importance_type=None, interaction_constraints=None,\n",
       "              learning_rate=0.1, max_bin=None, max_cat_threshold=None,\n",
       "              max_cat_to_onehot=None, max_delta_step=None, max_depth=3,\n",
       "              max_leaves=None, min_child_weight=5, missing=nan,\n",
       "              monotone_constraints=None, multi_strategy=None, n_estimators=200,\n",
       "              n_jobs=None, num_parallel_tree=None, random_state=None, ...)</pre><b>In a Jupyter environment, please rerun this cell to show the HTML representation or trust the notebook. <br />On GitHub, the HTML representation is unable to render, please try loading this page with nbviewer.org.</b></div><div class=\"sk-container\" hidden><div class=\"sk-item\"><div class=\"sk-estimator sk-toggleable\"><input class=\"sk-toggleable__control sk-hidden--visually\" id=\"sk-estimator-id-3\" type=\"checkbox\" checked><label for=\"sk-estimator-id-3\" class=\"sk-toggleable__label sk-toggleable__label-arrow\">XGBClassifier</label><div class=\"sk-toggleable__content\"><pre>XGBClassifier(base_score=None, booster=None, callbacks=None,\n",
       "              colsample_bylevel=None, colsample_bynode=None,\n",
       "              colsample_bytree=0.8, device=None, early_stopping_rounds=None,\n",
       "              enable_categorical=False, eval_metric=&#x27;logloss&#x27;,\n",
       "              feature_types=None, gamma=None, grow_policy=None,\n",
       "              importance_type=None, interaction_constraints=None,\n",
       "              learning_rate=0.1, max_bin=None, max_cat_threshold=None,\n",
       "              max_cat_to_onehot=None, max_delta_step=None, max_depth=3,\n",
       "              max_leaves=None, min_child_weight=5, missing=nan,\n",
       "              monotone_constraints=None, multi_strategy=None, n_estimators=200,\n",
       "              n_jobs=None, num_parallel_tree=None, random_state=None, ...)</pre></div></div></div></div></div>"
      ],
      "text/plain": [
       "XGBClassifier(base_score=None, booster=None, callbacks=None,\n",
       "              colsample_bylevel=None, colsample_bynode=None,\n",
       "              colsample_bytree=0.8, device=None, early_stopping_rounds=None,\n",
       "              enable_categorical=False, eval_metric='logloss',\n",
       "              feature_types=None, gamma=None, grow_policy=None,\n",
       "              importance_type=None, interaction_constraints=None,\n",
       "              learning_rate=0.1, max_bin=None, max_cat_threshold=None,\n",
       "              max_cat_to_onehot=None, max_delta_step=None, max_depth=3,\n",
       "              max_leaves=None, min_child_weight=5, missing=nan,\n",
       "              monotone_constraints=None, multi_strategy=None, n_estimators=200,\n",
       "              n_jobs=None, num_parallel_tree=None, random_state=None, ...)"
      ]
     },
     "execution_count": 106,
     "metadata": {},
     "output_type": "execute_result"
    }
   ],
   "source": [
    "\n",
    "modelo_xgboost = XGBClassifier(\n",
    "    objective='binary:logistic',\n",
    "    use_label_encoder=False,\n",
    "    eval_metric='logloss',\n",
    "    reg_alpha=0.001,\n",
    "    reg_lambda=0.001,\n",
    "    **best_params\n",
    ")\n",
    "modelo_xgboost.fit(x_treino_resampled, y_treino_resampled)"
   ]
  },
  {
   "cell_type": "code",
   "execution_count": 107,
   "metadata": {},
   "outputs": [],
   "source": [
    "from sklearn.metrics import accuracy_score, confusion_matrix, classification_report"
   ]
  },
  {
   "cell_type": "code",
   "execution_count": 108,
   "metadata": {},
   "outputs": [],
   "source": [
    "\n",
    "y_pred = modelo_xgboost.predict(x_teste)\n",
    "matriz_confusao = confusion_matrix(y_teste, y_pred)"
   ]
  },
  {
   "cell_type": "code",
   "execution_count": 109,
   "metadata": {},
   "outputs": [
    {
     "data": {
      "image/png": "[encoded data removed]",
      "text/plain": [
       "<Figure size 800x600 with 2 Axes>"
      ]
     },
     "metadata": {},
     "output_type": "display_data"
    }
   ],
   "source": [
    "\n",
    "plt.figure(figsize=(8, 6))\n",
    "sns.heatmap(matriz_confusao, annot=True, fmt='d', cmap='Blues', linewidths=.5)\n",
    "plt.title('Confusion Matrix')\n",
    "plt.xlabel('Predicted')\n",
    "plt.ylabel('Actual')\n",
    "plt.show()"
   ]
  },
  {
   "cell_type": "code",
   "execution_count": 110,
   "metadata": {},
   "outputs": [],
   "source": [
    "\n",
    "importances = modelo_xgboost.feature_importances_\n",
    "variable_names = df_final.drop(['convertido'], axis=1).columns[selector.get_support()]\n",
    "\n",
    "\n",
    "df_importances = pd.DataFrame({'Variable': variable_names, 'Importance': importances})\n",
    "df_importances = df_importances.sort_values(by='Importance', ascending=False)"
   ]
  },
  {
   "cell_type": "code",
   "execution_count": 111,
   "metadata": {},
   "outputs": [
    {
     "name": "stdout",
     "output_type": "stream",
     "text": [
      "Importancia das variaveis:\n",
      "                  Variable  Importance\n",
      "7            vlr_orcamento    0.193093\n",
      "9          nao_convertidos    0.150805\n",
      "0              dias_desejo    0.131166\n",
      "8              convertidos    0.084753\n",
      "6                 vl_frete    0.074610\n",
      "12            amb_outros_S    0.064076\n",
      "2             revestimento    0.062862\n",
      "5              arg_rejunte    0.049637\n",
      "1             dias_em_casa    0.047517\n",
      "10  ds_tipo_obra_Nova Obra    0.044229\n",
      "4            loucas_metais    0.037724\n",
      "3                 officina    0.031905\n",
      "11    ds_tipo_obra_Reforma    0.027624\n"
     ]
    }
   ],
   "source": [
    "print(\"Importancia das variaveis:\")\n",
    "print(df_importances)"
   ]
  },
  {
   "cell_type": "code",
   "execution_count": 112,
   "metadata": {},
   "outputs": [
    {
     "name": "stderr",
     "output_type": "stream",
     "text": [
      "C:\\Users\\Guilherme\\AppData\\Local\\Temp\\ipykernel_28028\\1737072124.py:2: FutureWarning: \n",
      "\n",
      "Passing `palette` without assigning `hue` is deprecated and will be removed in v0.14.0. Assign the `y` variable to `hue` and set `legend=False` for the same effect.\n",
      "\n",
      "  sns.barplot(x='Importance', y='Variable', data=df_importances, palette='viridis')\n"
     ]
    },
    {
     "data": {
      "image/png": "[encoded data removed]",
      "text/plain": [
       "<Figure size 1200x800 with 1 Axes>"
      ]
     },
     "metadata": {},
     "output_type": "display_data"
    }
   ],
   "source": [
    "\n",
    "plt.figure(figsize=(12, 8))\n",
    "sns.barplot(x='Importance', y='Variable', data=df_importances, palette='viridis')\n",
    "plt.title('Importancia das variaveis')\n",
    "plt.show()"
   ]
  },
  {
   "cell_type": "code",
   "execution_count": 113,
   "metadata": {},
   "outputs": [
    {
     "name": "stdout",
     "output_type": "stream",
     "text": [
      "\n",
      "Classification Report:\n",
      "              precision    recall  f1-score   support\n",
      "\n",
      "           0       0.72      0.73      0.72       573\n",
      "           1       0.71      0.70      0.71       547\n",
      "\n",
      "    accuracy                           0.72      1120\n",
      "   macro avg       0.72      0.71      0.71      1120\n",
      "weighted avg       0.72      0.72      0.72      1120\n",
      "\n"
     ]
    }
   ],
   "source": [
    "\n",
    "print(\"\\nClassification Report:\")\n",
    "print(classification_report(y_teste, y_pred))"
   ]
  },
  {
   "cell_type": "code",
   "execution_count": 114,
   "metadata": {},
   "outputs": [
    {
     "name": "stdout",
     "output_type": "stream",
     "text": [
      "Acurácia no conjunto de teste: 71.52%\n"
     ]
    }
   ],
   "source": [
    "\n",
    "acuracia = accuracy_score(y_teste, y_pred)\n",
    "print(f'Acurácia no conjunto de teste: {acuracia * 100:.2f}%')"
   ]
  },
  {
   "cell_type": "code",
   "execution_count": 115,
   "metadata": {},
   "outputs": [
    {
     "data": {
      "text/html": [
       "<div>\n",
       "<style scoped>\n",
       "    .dataframe tbody tr th:only-of-type {\n",
       "        vertical-align: middle;\n",
       "    }\n",
       "\n",
       "    .dataframe tbody tr th {\n",
       "        vertical-align: top;\n",
       "    }\n",
       "\n",
       "    .dataframe thead th {\n",
       "        text-align: right;\n",
       "    }\n",
       "</style>\n",
       "<table border=\"1\" class=\"dataframe\">\n",
       "  <thead>\n",
       "    <tr style=\"text-align: right;\">\n",
       "      <th></th>\n",
       "      <th>nm_prop_oportunidade</th>\n",
       "      <th>convertido</th>\n",
       "      <th>probabilidade_conversao</th>\n",
       "      <th>id_quote</th>\n",
       "    </tr>\n",
       "  </thead>\n",
       "  <tbody>\n",
       "    <tr>\n",
       "      <th>0</th>\n",
       "      <td>adryson pinto freitas</td>\n",
       "      <td>0</td>\n",
       "      <td>0.505347</td>\n",
       "      <td>0Q03s000000SgjJCAS</td>\n",
       "    </tr>\n",
       "    <tr>\n",
       "      <th>1</th>\n",
       "      <td>ana paula goncalves lemos</td>\n",
       "      <td>0</td>\n",
       "      <td>0.470724</td>\n",
       "      <td>0Q03s000000GbRDCA0</td>\n",
       "    </tr>\n",
       "    <tr>\n",
       "      <th>2</th>\n",
       "      <td>bruno schmelzer de souza</td>\n",
       "      <td>0</td>\n",
       "      <td>0.516673</td>\n",
       "      <td>0Q03s000000GSpmCAG</td>\n",
       "    </tr>\n",
       "    <tr>\n",
       "      <th>3</th>\n",
       "      <td>claudia marina silva</td>\n",
       "      <td>1</td>\n",
       "      <td>0.515558</td>\n",
       "      <td>0Q03s000000GUhUCAW</td>\n",
       "    </tr>\n",
       "    <tr>\n",
       "      <th>4</th>\n",
       "      <td>dara jenifer de jesus</td>\n",
       "      <td>1</td>\n",
       "      <td>0.236873</td>\n",
       "      <td>0Q03s000000SYHxCAO</td>\n",
       "    </tr>\n",
       "    <tr>\n",
       "      <th>5</th>\n",
       "      <td>ediane rosa</td>\n",
       "      <td>0</td>\n",
       "      <td>0.668896</td>\n",
       "      <td>0Q03s000000SgIICA0</td>\n",
       "    </tr>\n",
       "    <tr>\n",
       "      <th>6</th>\n",
       "      <td>fabiano martins werutsky</td>\n",
       "      <td>0</td>\n",
       "      <td>0.483850</td>\n",
       "      <td>0Q03s000000GRwXCAW</td>\n",
       "    </tr>\n",
       "    <tr>\n",
       "      <th>7</th>\n",
       "      <td>juliana westphalen gonçalves</td>\n",
       "      <td>0</td>\n",
       "      <td>0.539846</td>\n",
       "      <td>0Q03s000000GS97CAG</td>\n",
       "    </tr>\n",
       "    <tr>\n",
       "      <th>8</th>\n",
       "      <td>leticia silva de arruda</td>\n",
       "      <td>0</td>\n",
       "      <td>0.497925</td>\n",
       "      <td>0Q03s000000GRoxCAG</td>\n",
       "    </tr>\n",
       "    <tr>\n",
       "      <th>9</th>\n",
       "      <td>luis roberto da silva ferreira junior</td>\n",
       "      <td>1</td>\n",
       "      <td>0.505093</td>\n",
       "      <td>0Q03s000000GSIiCAO</td>\n",
       "    </tr>\n",
       "    <tr>\n",
       "      <th>10</th>\n",
       "      <td>matheus homrich</td>\n",
       "      <td>0</td>\n",
       "      <td>0.476818</td>\n",
       "      <td>0Q03s000000ShZjCAK</td>\n",
       "    </tr>\n",
       "    <tr>\n",
       "      <th>11</th>\n",
       "      <td>maurício padilha</td>\n",
       "      <td>0</td>\n",
       "      <td>0.653121</td>\n",
       "      <td>0Q03s000000WoNPCA0</td>\n",
       "    </tr>\n",
       "    <tr>\n",
       "      <th>12</th>\n",
       "      <td>patricia agnes</td>\n",
       "      <td>0</td>\n",
       "      <td>0.506579</td>\n",
       "      <td>0Q03s000000GT6YCAW</td>\n",
       "    </tr>\n",
       "    <tr>\n",
       "      <th>13</th>\n",
       "      <td>rafael kanitz de souza</td>\n",
       "      <td>1</td>\n",
       "      <td>0.517148</td>\n",
       "      <td>0Q03s000000b2sACAQ</td>\n",
       "    </tr>\n",
       "    <tr>\n",
       "      <th>14</th>\n",
       "      <td>rafaela de sousa paonessa loureiro</td>\n",
       "      <td>1</td>\n",
       "      <td>0.470876</td>\n",
       "      <td>0Q03s000000GS1cCAG</td>\n",
       "    </tr>\n",
       "    <tr>\n",
       "      <th>15</th>\n",
       "      <td>thamye mello da silva</td>\n",
       "      <td>0</td>\n",
       "      <td>0.530553</td>\n",
       "      <td>0Q03s000000SaJjCAK</td>\n",
       "    </tr>\n",
       "  </tbody>\n",
       "</table>\n",
       "</div>"
      ],
      "text/plain": [
       "                     nm_prop_oportunidade  convertido  \\\n",
       "0                   adryson pinto freitas           0   \n",
       "1               ana paula goncalves lemos           0   \n",
       "2                bruno schmelzer de souza           0   \n",
       "3                    claudia marina silva           1   \n",
       "4                   dara jenifer de jesus           1   \n",
       "5                             ediane rosa           0   \n",
       "6                fabiano martins werutsky           0   \n",
       "7            juliana westphalen gonçalves           0   \n",
       "8                 leticia silva de arruda           0   \n",
       "9   luis roberto da silva ferreira junior           1   \n",
       "10                        matheus homrich           0   \n",
       "11                       maurício padilha           0   \n",
       "12                         patricia agnes           0   \n",
       "13                 rafael kanitz de souza           1   \n",
       "14     rafaela de sousa paonessa loureiro           1   \n",
       "15                  thamye mello da silva           0   \n",
       "\n",
       "    probabilidade_conversao            id_quote  \n",
       "0                  0.505347  0Q03s000000SgjJCAS  \n",
       "1                  0.470724  0Q03s000000GbRDCA0  \n",
       "2                  0.516673  0Q03s000000GSpmCAG  \n",
       "3                  0.515558  0Q03s000000GUhUCAW  \n",
       "4                  0.236873  0Q03s000000SYHxCAO  \n",
       "5                  0.668896  0Q03s000000SgIICA0  \n",
       "6                  0.483850  0Q03s000000GRwXCAW  \n",
       "7                  0.539846  0Q03s000000GS97CAG  \n",
       "8                  0.497925  0Q03s000000GRoxCAG  \n",
       "9                  0.505093  0Q03s000000GSIiCAO  \n",
       "10                 0.476818  0Q03s000000ShZjCAK  \n",
       "11                 0.653121  0Q03s000000WoNPCA0  \n",
       "12                 0.506579  0Q03s000000GT6YCAW  \n",
       "13                 0.517148  0Q03s000000b2sACAQ  \n",
       "14                 0.470876  0Q03s000000GS1cCAG  \n",
       "15                 0.530553  0Q03s000000SaJjCAK  "
      ]
     },
     "metadata": {},
     "output_type": "display_data"
    }
   ],
   "source": [
    "probabilidades_teste = modelo_xgboost.predict_proba(x_teste)[:, 1]\n",
    "\n",
    "\n",
    "x_teste_df = pd.DataFrame(x_teste, columns=variable_names)\n",
    "df_temporario_teste = pd.DataFrame({\n",
    "    'nm_prop_oportunidade': base_treino.loc[x_teste_df.index, 'nm_prop_oportunidade'],\n",
    "    'convertido': y_teste,\n",
    "    'id_quote': base_treino.loc[x_teste_df.index, 'id_quote'],\n",
    "    'probabilidade_conversao': probabilidades_teste\n",
    "})\n",
    "\n",
    "df_temporario_teste = df_temporario_teste.drop_duplicates(subset=['nm_prop_oportunidade', 'convertido', 'id_quote'])\n",
    "\n",
    "df_resultados_teste = df_temporario_teste.groupby('nm_prop_oportunidade', as_index=False).agg({\n",
    "    'convertido': 'first',\n",
    "    'probabilidade_conversao': 'mean',\n",
    "    'id_quote': 'first' \n",
    "})\n",
    "\n",
    "with pd.option_context('display.max_rows', None):\n",
    "    display(df_resultados_teste[['nm_prop_oportunidade', 'convertido', 'probabilidade_conversao', 'id_quote']])"
   ]
  },
  {
   "cell_type": "code",
   "execution_count": 117,
   "metadata": {},
   "outputs": [],
   "source": [
    "df_resultados_teste.to_csv(\"orcamentos_xgboost_classifier.csv\")"
   ]
  }
 ],
 "metadata": {
  "kernelspec": {
   "display_name": "venv",
   "language": "python",
   "name": "python3"
  },
  "language_info": {
   "codemirror_mode": {
    "name": "ipython",
    "version": 3
   },
   "file_extension": ".py",
   "mimetype": "text/x-python",
   "name": "python",
   "nbconvert_exporter": "python",
   "pygments_lexer": "ipython3",
   "version": "3.8.0"
  }
 },
 "nbformat": 4,
 "nbformat_minor": 2
}
